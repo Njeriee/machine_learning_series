{
  "nbformat": 4,
  "nbformat_minor": 0,
  "metadata": {
    "colab": {
      "provenance": [],
      "authorship_tag": "ABX9TyMn2eUFRXonK1geclIqd7wQ",
      "include_colab_link": true
    },
    "kernelspec": {
      "name": "python3",
      "display_name": "Python 3"
    },
    "language_info": {
      "name": "python"
    }
  },
  "cells": [
    {
      "cell_type": "markdown",
      "metadata": {
        "id": "view-in-github",
        "colab_type": "text"
      },
      "source": [
        "<a href=\"https://colab.research.google.com/github/Njeriee/machine_learning_series/blob/main/introduction_to_tensorflow.ipynb\" target=\"_parent\"><img src=\"https://colab.research.google.com/assets/colab-badge.svg\" alt=\"Open In Colab\"/></a>"
      ]
    },
    {
      "cell_type": "code",
      "execution_count": null,
      "metadata": {
        "id": "5HMOhFsQ0Os9"
      },
      "outputs": [],
      "source": [
        "# TensorFlow is an end-to-end platform for machine learning\n",
        "# It supports the following\n",
        "# a) Multidimensional-array based numeric computation (similar to NumPy.)\n",
        "# b) GPU and distributed processing\n",
        "# c) Automatic differentiation\n",
        "# d) Model construction, training, and export\n",
        "# And more"
      ]
    },
    {
      "cell_type": "code",
      "source": [
        "# TensorFlow operates on multidimensional arrays or tensors represented as tf.Tensor objects"
      ],
      "metadata": {
        "id": "9YJM5yOb3XpS"
      },
      "execution_count": null,
      "outputs": []
    },
    {
      "cell_type": "code",
      "source": [
        "import tensorflow as tf"
      ],
      "metadata": {
        "id": "o2mY2mh047AQ"
      },
      "execution_count": null,
      "outputs": []
    },
    {
      "cell_type": "code",
      "source": [
        "# example of tensors belonging to diffrent dimensions\n",
        "# rank zero tensor/scalar it is just a point(zero dimensions)\n",
        "rank_0_tensor = tf.constant(4)\n",
        "print(rank_0_tensor)"
      ],
      "metadata": {
        "id": "BmdTM6bi3aXt",
        "colab": {
          "base_uri": "https://localhost:8080/"
        },
        "outputId": "12a87cf5-090e-433b-e1e0-e112e757c83a"
      },
      "execution_count": null,
      "outputs": [
        {
          "output_type": "stream",
          "name": "stdout",
          "text": [
            "tf.Tensor(4, shape=(), dtype=int32)\n"
          ]
        }
      ]
    },
    {
      "cell_type": "code",
      "source": [
        "# rank 1 tensor/vector(1 dimension)\n",
        "rank_1_tensor = tf.constant([2.0, 3.0, 4.0])\n",
        "print(rank_1_tensor)"
      ],
      "metadata": {
        "colab": {
          "base_uri": "https://localhost:8080/"
        },
        "id": "YxtQ4TpzJivQ",
        "outputId": "353198d0-ddd1-4947-c571-8e93eb3cea33"
      },
      "execution_count": null,
      "outputs": [
        {
          "output_type": "stream",
          "name": "stdout",
          "text": [
            "tf.Tensor([2. 3. 4.], shape=(3,), dtype=float32)\n"
          ]
        }
      ]
    },
    {
      "cell_type": "code",
      "source": [
        "# rank 2 tensor/matrix(2 dimensions)\n",
        "rank_2_tensor = tf.constant([[1, 2],\n",
        "                             [3, 4],\n",
        "                             [5, 6]], dtype=tf.float16)\n",
        "print(rank_2_tensor)"
      ],
      "metadata": {
        "colab": {
          "base_uri": "https://localhost:8080/"
        },
        "id": "TfnwGJAXKFRd",
        "outputId": "4ae6e4e2-9ca0-4989-be26-f6c0b52aa03f"
      },
      "execution_count": null,
      "outputs": [
        {
          "output_type": "stream",
          "name": "stdout",
          "text": [
            "tf.Tensor(\n",
            "[[1. 2.]\n",
            " [3. 4.]\n",
            " [5. 6.]], shape=(3, 2), dtype=float16)\n"
          ]
        }
      ]
    },
    {
      "cell_type": "code",
      "source": [
        "# @title Default title text\n",
        "# rank 3 tensor/3D (3-dimensions)\n",
        "rank_3_tensor = tf.constant([\n",
        "  [[0, 1, 2, 3, 4],\n",
        "   [5, 6, 7, 8, 9]],\n",
        "  [[10, 11, 12, 13, 14],\n",
        "   [15, 16, 17, 18, 19]],\n",
        "  [[20, 21, 22, 23, 24],\n",
        "   [25, 26, 27, 28, 29]],])\n",
        "\n",
        "print(rank_3_tensor)\n"
      ],
      "metadata": {
        "colab": {
          "base_uri": "https://localhost:8080/"
        },
        "id": "1yiWGfQ9KTIs",
        "outputId": "4480bd84-ac3f-44d3-8c8b-09f7dd6b4fd6"
      },
      "execution_count": null,
      "outputs": [
        {
          "output_type": "stream",
          "name": "stdout",
          "text": [
            "tf.Tensor(\n",
            "[[[ 0  1  2  3  4]\n",
            "  [ 5  6  7  8  9]]\n",
            "\n",
            " [[10 11 12 13 14]\n",
            "  [15 16 17 18 19]]\n",
            "\n",
            " [[20 21 22 23 24]\n",
            "  [25 26 27 28 29]]], shape=(3, 2, 5), dtype=int32)\n"
          ]
        }
      ]
    },
    {
      "cell_type": "code",
      "source": [
        "# rank 4 tensor\n",
        "rank_4_tensor = tf.zeros([3, 2, 4, 5])\n",
        "\n",
        "print(\"Type of every element:\", rank_4_tensor.dtype)\n",
        "print(\"Number of axes:\", rank_4_tensor.ndim)\n",
        "print(\"Shape of tensor:\", rank_4_tensor.shape)\n",
        "print(\"Elements along axis 0 of tensor:\", rank_4_tensor.shape[0])\n",
        "print(\"Elements along the last axis of tensor:\", rank_4_tensor.shape[-1])\n",
        "print(\"Total number of elements (3*2*4*5): \", tf.size(rank_4_tensor).numpy())"
      ],
      "metadata": {
        "colab": {
          "base_uri": "https://localhost:8080/"
        },
        "id": "pvQCJX0dh3iB",
        "outputId": "d96c87e6-373f-40cb-bdbd-85f2087bf5f8"
      },
      "execution_count": null,
      "outputs": [
        {
          "output_type": "stream",
          "name": "stdout",
          "text": [
            "Type of every element: <dtype: 'float32'>\n",
            "Number of axes: 4\n",
            "Shape of tensor: (3, 2, 4, 5)\n",
            "Elements along axis 0 of tensor: 3\n",
            "Elements along the last axis of tensor: 5\n",
            "Total number of elements (3*2*4*5):  120\n"
          ]
        }
      ]
    },
    {
      "cell_type": "code",
      "source": [
        "# dimensions are sometimes called axis(axes in plr)\n",
        "# tensors may have more than 3 axes i.e it is possible to create tensors that are beyond 3D"
      ],
      "metadata": {
        "id": "TrmxVxTcKzjR"
      },
      "execution_count": null,
      "outputs": []
    },
    {
      "cell_type": "code",
      "source": [
        "# You can convert a tensor to a NumPy array either using np.array or the tensor.numpy method\n",
        "# e.g\n",
        "import numpy as np\n",
        "print(np.array(rank_2_tensor))\n",
        "# you don't have to import numpy to use this\n",
        "print(rank_2_tensor.numpy())"
      ],
      "metadata": {
        "colab": {
          "base_uri": "https://localhost:8080/"
        },
        "id": "U72hsM65LkHC",
        "outputId": "4b28955b-0b48-4f5c-9c39-2b5ccffd501d"
      },
      "execution_count": null,
      "outputs": [
        {
          "output_type": "stream",
          "name": "stdout",
          "text": [
            "[[1. 2.]\n",
            " [3. 4.]\n",
            " [5. 6.]]\n"
          ]
        }
      ]
    },
    {
      "cell_type": "code",
      "source": [
        "# you can do basic math operations on tensors\n",
        "a = tf.constant([[1, 2],\n",
        "                 [3, 4]])\n",
        "b = tf.constant([[1, 1],\n",
        "                 [1, 1]]) # Could have also said `tf.ones([2,2], dtype=tf.int32)`\n",
        "\n",
        "print(tf.add(a, b), \"\\n\") # addition\n",
        "print(tf.multiply(a, b), \"\\n\") # multiplication\n",
        "print(tf.matmul(a, b), \"\\n\") # matrix multiplication\n",
        "\n",
        "# or\n",
        "print(a + b, \"\\n\") # element-wise addition\n",
        "print(a * b, \"\\n\") # element-wise multiplication\n",
        "print(a @ b, \"\\n\") # matrix multiplication"
      ],
      "metadata": {
        "colab": {
          "base_uri": "https://localhost:8080/"
        },
        "id": "YyDUrVJ8L2H0",
        "outputId": "3e1ea36d-674c-459e-b54f-cefb42ea32a6"
      },
      "execution_count": null,
      "outputs": [
        {
          "output_type": "stream",
          "name": "stdout",
          "text": [
            "tf.Tensor(\n",
            "[[2 3]\n",
            " [4 5]], shape=(2, 2), dtype=int32) \n",
            "\n",
            "tf.Tensor(\n",
            "[[1 2]\n",
            " [3 4]], shape=(2, 2), dtype=int32) \n",
            "\n",
            "tf.Tensor(\n",
            "[[3 3]\n",
            " [7 7]], shape=(2, 2), dtype=int32) \n",
            "\n",
            "tf.Tensor(\n",
            "[[2 3]\n",
            " [4 5]], shape=(2, 2), dtype=int32) \n",
            "\n",
            "tf.Tensor(\n",
            "[[1 2]\n",
            " [3 4]], shape=(2, 2), dtype=int32) \n",
            "\n",
            "tf.Tensor(\n",
            "[[3 3]\n",
            " [7 7]], shape=(2, 2), dtype=int32) \n",
            "\n"
          ]
        }
      ]
    },
    {
      "cell_type": "code",
      "source": [
        "# you can also do a bunch of other stuff on tensors\n",
        "# eg\n",
        "c = tf.constant([[4.0, 5.0], [10.0, 1.0]])\n",
        "\n",
        "# Find the largest value\n",
        "print(tf.reduce_max(c))\n",
        "# Find the index of the largest value\n",
        "print(tf.math.argmax(c))\n",
        "# Compute the softmax\n",
        "print(tf.nn.softmax(c))\n",
        "\n",
        "# softmax is a function of the neural network (nn) module found in tensorflow\n",
        "# what softmax does\n",
        "# a) Exponentiates -  It takes each element of c and raises it to the power of Euler's number (e), creating a vector of positive values.i.e coverts all values to positive numbers\n",
        "# b) Normalizes - divides each exponentiated element by the sum of all exponentiated elements, resulting in a vector(all values add up to 1)\n",
        "# c) Interpretation - The resulting values can be interpreted as probabilities, indicating the relative likelihood of each class or category.\n"
      ],
      "metadata": {
        "colab": {
          "base_uri": "https://localhost:8080/"
        },
        "id": "sdBbyVR-OR91",
        "outputId": "0cd63f9a-519d-41a4-c77b-c75448fc2cf1"
      },
      "execution_count": null,
      "outputs": [
        {
          "output_type": "stream",
          "name": "stdout",
          "text": [
            "tf.Tensor(10.0, shape=(), dtype=float32)\n",
            "tf.Tensor([1 0], shape=(2,), dtype=int64)\n",
            "tf.Tensor(\n",
            "[[2.6894143e-01 7.3105860e-01]\n",
            " [9.9987662e-01 1.2339458e-04]], shape=(2, 2), dtype=float32)\n"
          ]
        }
      ]
    },
    {
      "cell_type": "code",
      "source": [
        "# Indexing\n",
        "# TensorFlow follows standard Python indexing rules, similar to indexing a list or a string in Python, and the basic rules for NumPy indexing.\n",
        "\n",
        "# indexes start at 0\n",
        "# negative indices count backwards from the end\n",
        "# colons, :, are used for slices: start:stop:step"
      ],
      "metadata": {
        "id": "-GKFpauTQN5R"
      },
      "execution_count": null,
      "outputs": []
    },
    {
      "cell_type": "code",
      "source": [
        "# rank 1 tensors/vectors are typically lists and can be indexed as such\n",
        "rank_1_tensor = tf.constant([0, 1, 1, 2, 3, 5, 8, 13, 21, 34])\n",
        "print(rank_1_tensor.numpy())\n",
        "\n",
        "# indexing\n",
        "print(\"First:\", rank_1_tensor[0].numpy())\n",
        "print(\"Second:\", rank_1_tensor[1].numpy())\n",
        "print(\"Last:\", rank_1_tensor[-1].numpy())\n",
        "\n",
        "# slicing\n",
        "print(\"Everything:\", rank_1_tensor[:].numpy())\n",
        "print(\"Before 4:\", rank_1_tensor[:4].numpy())\n",
        "print(\"From 4 to the end:\", rank_1_tensor[4:].numpy())\n",
        "print(\"From 2, before 7:\", rank_1_tensor[2:7].numpy())\n",
        "print(\"Every other item:\", rank_1_tensor[::2].numpy())\n",
        "print(\"Reversed:\", rank_1_tensor[::-1].numpy())"
      ],
      "metadata": {
        "id": "jurH0Me5nrA2"
      },
      "execution_count": null,
      "outputs": []
    },
    {
      "cell_type": "code",
      "source": [
        "# for ranks 2 and above indexing is done through passing a list\n",
        "# eg\n",
        "print(rank_2_tensor.numpy())\n",
        "\n",
        "# Pull out a single value from a 2-rank tensor\n",
        "print(rank_2_tensor[1, 1].numpy())\n",
        "\n",
        "# Get row and column tensors\n",
        "print(\"Second row:\", rank_2_tensor[1, :].numpy())\n",
        "print(\"Second column:\", rank_2_tensor[:, 1].numpy())\n",
        "print(\"Last row:\", rank_2_tensor[-1, :].numpy())\n",
        "print(\"First item in last column:\", rank_2_tensor[0, -1].numpy())\n",
        "print(\"Skip the first row:\")\n",
        "print(rank_2_tensor[1:, :].numpy(), \"\\n\")"
      ],
      "metadata": {
        "colab": {
          "base_uri": "https://localhost:8080/"
        },
        "id": "3sCgQdE4oTLo",
        "outputId": "9067cc6d-d648-4dcd-fd59-5ae8234a69a3"
      },
      "execution_count": null,
      "outputs": [
        {
          "output_type": "stream",
          "name": "stdout",
          "text": [
            "[[1. 2.]\n",
            " [3. 4.]\n",
            " [5. 6.]]\n"
          ]
        }
      ]
    },
    {
      "cell_type": "code",
      "source": [
        "# indexing a rank 3 tensor\n",
        "print(rank_3_tensor)\n",
        "\n",
        "print(rank_3_tensor[:, :, 4])"
      ],
      "metadata": {
        "id": "1ghfWGawo9iz"
      },
      "execution_count": null,
      "outputs": []
    },
    {
      "cell_type": "code",
      "source": [
        "# ragged tensor example\n",
        "ragged_list = [\n",
        "    [0, 1, 2, 3],\n",
        "    [4, 5],\n",
        "    [6, 7, 8],\n",
        "    [9]]\n",
        "\n",
        "#converting it into a tensor\n",
        "ragged_tensor = tf.ragged.constant(ragged_list)\n",
        "print(ragged_tensor)\n"
      ],
      "metadata": {
        "id": "_pSp94o3sPqr"
      },
      "execution_count": null,
      "outputs": []
    },
    {
      "cell_type": "code",
      "source": [
        "# string tensors\n",
        "# tf.string is a dtype, which is to say you can represent data as strings (variable-length byte arrays) in tensors.\n",
        "# The strings are atomic and cannot be indexed the way Python strings are\n",
        "# eg\n",
        "# Tensors can be strings, too here is a scalar string.\n",
        "scalar_string_tensor = tf.constant(\"Gray wolf\")\n",
        "print(scalar_string_tensor)\n",
        "\n",
        "# a tensor/vector of strings\n",
        "tensor_of_strings = tf.constant([\"Gray wolf\",\n",
        "                                 \"Quick brown fox\",\n",
        "                                 \"Lazy dog\"])\n",
        "# Note that the shape is (3,). The string length is not included.\n",
        "print(tensor_of_strings)\n",
        "\n",
        "# there are more functions to manipulate string tensors(check documentation)"
      ],
      "metadata": {
        "id": "YV7OieUys7sX"
      },
      "execution_count": null,
      "outputs": []
    },
    {
      "cell_type": "code",
      "source": [
        "# sparse tensors\n",
        "# Sparse tensors store values by index in a memory-efficient manner\n",
        "sparse_tensor = tf.sparse.SparseTensor(indices=[[0, 0], [1, 2]],\n",
        "                                       values=[1, 2],\n",
        "                                       dense_shape=[3, 4])\n",
        "print(sparse_tensor, \"\\n\")\n",
        "\n",
        "# You can convert sparse tensors to dense\n",
        "print(tf.sparse.to_dense(sparse_tensor))"
      ],
      "metadata": {
        "id": "oKT_37ALuYqO"
      },
      "execution_count": null,
      "outputs": []
    }
  ]
}