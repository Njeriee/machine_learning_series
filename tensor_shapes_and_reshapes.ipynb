{
  "nbformat": 4,
  "nbformat_minor": 0,
  "metadata": {
    "colab": {
      "provenance": [],
      "authorship_tag": "ABX9TyMMyIvEadcJHdT4+P978w+5",
      "include_colab_link": true
    },
    "kernelspec": {
      "name": "python3",
      "display_name": "Python 3"
    },
    "language_info": {
      "name": "python"
    }
  },
  "cells": [
    {
      "cell_type": "markdown",
      "metadata": {
        "id": "view-in-github",
        "colab_type": "text"
      },
      "source": [
        "<a href=\"https://colab.research.google.com/github/Njeriee/machine_learning_series/blob/main/tensor_shapes_and_reshapes.ipynb\" target=\"_parent\"><img src=\"https://colab.research.google.com/assets/colab-badge.svg\" alt=\"Open In Colab\"/></a>"
      ]
    },
    {
      "cell_type": "code",
      "execution_count": null,
      "metadata": {
        "colab": {
          "base_uri": "https://localhost:8080/"
        },
        "id": "Ccvv4uKNm9Hl",
        "outputId": "45cb0c6f-82fd-46c4-d5d7-19449dad155f"
      },
      "outputs": [
        {
          "output_type": "stream",
          "name": "stdout",
          "text": [
            "<module 'tensorflow._api.v2.version' from '/usr/local/lib/python3.10/dist-packages/tensorflow/_api/v2/version/__init__.py'>\n"
          ]
        }
      ],
      "source": [
        "import tensorflow as tf\n",
        "print(tf.version)"
      ]
    },
    {
      "cell_type": "code",
      "source": [
        "# here we generate a tensor of only ones to play around with.Remember to include the shape and the dimension of the tensor\n",
        "t = tf.ones([3,2,1])\n",
        "print(t)\n",
        "print(tf.rank(t))"
      ],
      "metadata": {
        "colab": {
          "base_uri": "https://localhost:8080/"
        },
        "id": "aqhUOVIKnIjz",
        "outputId": "572d343d-ea4d-424a-b055-a3d53050b20d"
      },
      "execution_count": null,
      "outputs": [
        {
          "output_type": "stream",
          "name": "stdout",
          "text": [
            "tf.Tensor(\n",
            "[[[1.]\n",
            "  [1.]]\n",
            "\n",
            " [[1.]\n",
            "  [1.]]\n",
            "\n",
            " [[1.]\n",
            "  [1.]]], shape=(3, 2, 1), dtype=float32)\n",
            "tf.Tensor(3, shape=(), dtype=int32)\n"
          ]
        }
      ]
    },
    {
      "cell_type": "code",
      "source": [
        "# you can also generate a tensor of zeros using the deafult tf.zeros method of tensorflow\n",
        "t2 = tf.zeros([2,2])\n",
        "print(t2)\n",
        "# to reshape a tensor keep in mind the number of elements it has\n",
        "# i.e to reshape the above tensor we know that it has 4 elements i.e 2*2 we can carry out the operation using the tf.reshape() method\n",
        "print(tf.reshape(t2,[4]))\n",
        "print(rank)\n",
        "# the above code line flattens the array and returns a flattened array which is a list with 4 elements"
      ],
      "metadata": {
        "colab": {
          "base_uri": "https://localhost:8080/"
        },
        "id": "6pZahYE0nsYu",
        "outputId": "4caee809-9092-4bd9-add5-90688f23eb8d"
      },
      "execution_count": null,
      "outputs": [
        {
          "output_type": "stream",
          "name": "stdout",
          "text": [
            "tf.Tensor(\n",
            "[[0. 0.]\n",
            " [0. 0.]], shape=(2, 2), dtype=float32)\n",
            "tf.Tensor([0. 0. 0. 0.], shape=(4,), dtype=float32)\n"
          ]
        }
      ]
    },
    {
      "cell_type": "code",
      "source": [],
      "metadata": {
        "id": "I7pGURl_sKWC"
      },
      "execution_count": null,
      "outputs": []
    }
  ]
}